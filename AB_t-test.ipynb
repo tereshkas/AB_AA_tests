{
 "cells": [
  {
   "cell_type": "code",
   "execution_count": 23,
   "id": "222b29eb",
   "metadata": {},
   "outputs": [],
   "source": [
    "import pandas as pd\n",
    "import numpy as np\n",
    "import seaborn as sns\n",
    "import pingouin as pg\n",
    "import matplotlib.pyplot as plt\n",
    "import scipy.stats as ss"
   ]
  },
  {
   "cell_type": "markdown",
   "id": "b58eacb3",
   "metadata": {},
   "source": [
    "### Проведем A/B тест в компании, которая занимается доставкой пиццы. Есть одна проблема — к вечеру скорость доставки падает из-за того, что курьеры уходят домой после рабочего дня, а количество заказов лишь растет. Это приводит к тому, что в момент пересмены доставка очень сильно проседает в эффективности. Был придуман новый алгоритм и решено раскатить A/B тест на две равные группы курьеров. Проанализируем данные эксперимента и поможем принять решение о раскатке новой фичи на всех курьеров."
   ]
  },
  {
   "cell_type": "code",
   "execution_count": 3,
   "id": "c1906595",
   "metadata": {},
   "outputs": [],
   "source": [
    "df = pd.read_csv('experiment.csv')"
   ]
  },
  {
   "cell_type": "code",
   "execution_count": 4,
   "id": "d37c6915",
   "metadata": {},
   "outputs": [
    {
     "data": {
      "text/html": [
       "<div>\n",
       "<style scoped>\n",
       "    .dataframe tbody tr th:only-of-type {\n",
       "        vertical-align: middle;\n",
       "    }\n",
       "\n",
       "    .dataframe tbody tr th {\n",
       "        vertical-align: top;\n",
       "    }\n",
       "\n",
       "    .dataframe thead th {\n",
       "        text-align: right;\n",
       "    }\n",
       "</style>\n",
       "<table border=\"1\" class=\"dataframe\">\n",
       "  <thead>\n",
       "    <tr style=\"text-align: right;\">\n",
       "      <th></th>\n",
       "      <th>order_id</th>\n",
       "      <th>delivery_time</th>\n",
       "      <th>district</th>\n",
       "      <th>experiment_group</th>\n",
       "    </tr>\n",
       "  </thead>\n",
       "  <tbody>\n",
       "    <tr>\n",
       "      <th>0</th>\n",
       "      <td>3159</td>\n",
       "      <td>44.0</td>\n",
       "      <td>Purlieus</td>\n",
       "      <td>control</td>\n",
       "    </tr>\n",
       "    <tr>\n",
       "      <th>1</th>\n",
       "      <td>10426</td>\n",
       "      <td>51.0</td>\n",
       "      <td>Purlieus</td>\n",
       "      <td>control</td>\n",
       "    </tr>\n",
       "    <tr>\n",
       "      <th>2</th>\n",
       "      <td>9155</td>\n",
       "      <td>46.0</td>\n",
       "      <td>Purlieus</td>\n",
       "      <td>control</td>\n",
       "    </tr>\n",
       "    <tr>\n",
       "      <th>3</th>\n",
       "      <td>10699</td>\n",
       "      <td>34.0</td>\n",
       "      <td>Purlieus</td>\n",
       "      <td>control</td>\n",
       "    </tr>\n",
       "    <tr>\n",
       "      <th>4</th>\n",
       "      <td>10061</td>\n",
       "      <td>43.0</td>\n",
       "      <td>Purlieus</td>\n",
       "      <td>control</td>\n",
       "    </tr>\n",
       "  </tbody>\n",
       "</table>\n",
       "</div>"
      ],
      "text/plain": [
       "   order_id  delivery_time  district experiment_group\n",
       "0      3159           44.0  Purlieus          control\n",
       "1     10426           51.0  Purlieus          control\n",
       "2      9155           46.0  Purlieus          control\n",
       "3     10699           34.0  Purlieus          control\n",
       "4     10061           43.0  Purlieus          control"
      ]
     },
     "execution_count": 4,
     "metadata": {},
     "output_type": "execute_result"
    }
   ],
   "source": [
    "df.head()"
   ]
  },
  {
   "cell_type": "code",
   "execution_count": 5,
   "id": "e1e0661f",
   "metadata": {},
   "outputs": [
    {
     "data": {
      "text/plain": [
       "test       10104\n",
       "control    10092\n",
       "Name: experiment_group, dtype: int64"
      ]
     },
     "execution_count": 5,
     "metadata": {},
     "output_type": "execute_result"
    }
   ],
   "source": [
    "df.experiment_group.value_counts()"
   ]
  },
  {
   "cell_type": "code",
   "execution_count": 6,
   "id": "18a97913",
   "metadata": {},
   "outputs": [
    {
     "data": {
      "text/plain": [
       "order_id              int64\n",
       "delivery_time       float64\n",
       "district             object\n",
       "experiment_group     object\n",
       "dtype: object"
      ]
     },
     "execution_count": 6,
     "metadata": {},
     "output_type": "execute_result"
    }
   ],
   "source": [
    "df.dtypes"
   ]
  },
  {
   "cell_type": "code",
   "execution_count": 12,
   "id": "7657ff21",
   "metadata": {},
   "outputs": [
    {
     "data": {
      "text/plain": [
       "(20196, 4)"
      ]
     },
     "execution_count": 12,
     "metadata": {},
     "output_type": "execute_result"
    }
   ],
   "source": [
    "df.shape"
   ]
  },
  {
   "cell_type": "code",
   "execution_count": 11,
   "id": "72bd89fe",
   "metadata": {},
   "outputs": [
    {
     "data": {
      "text/plain": [
       "order_id            20196\n",
       "delivery_time          72\n",
       "district                3\n",
       "experiment_group        2\n",
       "dtype: int64"
      ]
     },
     "execution_count": 11,
     "metadata": {},
     "output_type": "execute_result"
    }
   ],
   "source": [
    "df.nunique()"
   ]
  },
  {
   "cell_type": "code",
   "execution_count": 7,
   "id": "549b1268",
   "metadata": {},
   "outputs": [
    {
     "data": {
      "text/plain": [
       "order_id            0\n",
       "delivery_time       0\n",
       "district            0\n",
       "experiment_group    0\n",
       "dtype: int64"
      ]
     },
     "execution_count": 7,
     "metadata": {},
     "output_type": "execute_result"
    }
   ],
   "source": [
    "df.isna().sum()"
   ]
  },
  {
   "cell_type": "code",
   "execution_count": 10,
   "id": "5c8bee47",
   "metadata": {},
   "outputs": [
    {
     "data": {
      "text/html": [
       "<div>\n",
       "<style scoped>\n",
       "    .dataframe tbody tr th:only-of-type {\n",
       "        vertical-align: middle;\n",
       "    }\n",
       "\n",
       "    .dataframe tbody tr th {\n",
       "        vertical-align: top;\n",
       "    }\n",
       "\n",
       "    .dataframe thead tr th {\n",
       "        text-align: left;\n",
       "    }\n",
       "\n",
       "    .dataframe thead tr:last-of-type th {\n",
       "        text-align: right;\n",
       "    }\n",
       "</style>\n",
       "<table border=\"1\" class=\"dataframe\">\n",
       "  <thead>\n",
       "    <tr>\n",
       "      <th></th>\n",
       "      <th colspan=\"8\" halign=\"left\">order_id</th>\n",
       "      <th colspan=\"8\" halign=\"left\">delivery_time</th>\n",
       "    </tr>\n",
       "    <tr>\n",
       "      <th></th>\n",
       "      <th>count</th>\n",
       "      <th>mean</th>\n",
       "      <th>std</th>\n",
       "      <th>min</th>\n",
       "      <th>25%</th>\n",
       "      <th>50%</th>\n",
       "      <th>75%</th>\n",
       "      <th>max</th>\n",
       "      <th>count</th>\n",
       "      <th>mean</th>\n",
       "      <th>std</th>\n",
       "      <th>min</th>\n",
       "      <th>25%</th>\n",
       "      <th>50%</th>\n",
       "      <th>75%</th>\n",
       "      <th>max</th>\n",
       "    </tr>\n",
       "    <tr>\n",
       "      <th>experiment_group</th>\n",
       "      <th></th>\n",
       "      <th></th>\n",
       "      <th></th>\n",
       "      <th></th>\n",
       "      <th></th>\n",
       "      <th></th>\n",
       "      <th></th>\n",
       "      <th></th>\n",
       "      <th></th>\n",
       "      <th></th>\n",
       "      <th></th>\n",
       "      <th></th>\n",
       "      <th></th>\n",
       "      <th></th>\n",
       "      <th></th>\n",
       "      <th></th>\n",
       "    </tr>\n",
       "  </thead>\n",
       "  <tbody>\n",
       "    <tr>\n",
       "      <th>control</th>\n",
       "      <td>10092.0</td>\n",
       "      <td>6045.5</td>\n",
       "      <td>2913.453792</td>\n",
       "      <td>1000.0</td>\n",
       "      <td>3522.75</td>\n",
       "      <td>6045.5</td>\n",
       "      <td>8568.25</td>\n",
       "      <td>11091.0</td>\n",
       "      <td>10092.0</td>\n",
       "      <td>45.065101</td>\n",
       "      <td>9.990017</td>\n",
       "      <td>15.0</td>\n",
       "      <td>38.0</td>\n",
       "      <td>45.0</td>\n",
       "      <td>52.0</td>\n",
       "      <td>83.0</td>\n",
       "    </tr>\n",
       "    <tr>\n",
       "      <th>test</th>\n",
       "      <td>10104.0</td>\n",
       "      <td>16155.5</td>\n",
       "      <td>2916.917894</td>\n",
       "      <td>11104.0</td>\n",
       "      <td>13629.75</td>\n",
       "      <td>16155.5</td>\n",
       "      <td>18681.25</td>\n",
       "      <td>21207.0</td>\n",
       "      <td>10104.0</td>\n",
       "      <td>39.046813</td>\n",
       "      <td>9.883308</td>\n",
       "      <td>10.0</td>\n",
       "      <td>32.0</td>\n",
       "      <td>39.0</td>\n",
       "      <td>46.0</td>\n",
       "      <td>75.0</td>\n",
       "    </tr>\n",
       "  </tbody>\n",
       "</table>\n",
       "</div>"
      ],
      "text/plain": [
       "                 order_id                                                    \\\n",
       "                    count     mean          std      min       25%      50%   \n",
       "experiment_group                                                              \n",
       "control           10092.0   6045.5  2913.453792   1000.0   3522.75   6045.5   \n",
       "test              10104.0  16155.5  2916.917894  11104.0  13629.75  16155.5   \n",
       "\n",
       "                                    delivery_time                             \\\n",
       "                       75%      max         count       mean       std   min   \n",
       "experiment_group                                                               \n",
       "control            8568.25  11091.0       10092.0  45.065101  9.990017  15.0   \n",
       "test              18681.25  21207.0       10104.0  39.046813  9.883308  10.0   \n",
       "\n",
       "                                          \n",
       "                   25%   50%   75%   max  \n",
       "experiment_group                          \n",
       "control           38.0  45.0  52.0  83.0  \n",
       "test              32.0  39.0  46.0  75.0  "
      ]
     },
     "execution_count": 10,
     "metadata": {},
     "output_type": "execute_result"
    }
   ],
   "source": [
    "df.groupby('experiment_group').describe()"
   ]
  },
  {
   "cell_type": "markdown",
   "id": "dbdfd41a",
   "metadata": {},
   "source": [
    "#### Для начала давайте сформулируем гипотезы для проверки и посмотрим на грфики распределений экспериментальных групп. \n",
    "Нулевая гипотеза (H0): Разницы между средним временем доставки в тестовой и контрольной группе нет.  \n",
    "Альтернативная гипотеза (H1): Разница между средним временем доставки в тестовой и контрольной группе есть."
   ]
  },
  {
   "cell_type": "code",
   "execution_count": 16,
   "id": "4ec28b08",
   "metadata": {},
   "outputs": [
    {
     "data": {
      "text/plain": [
       "district\n",
       "Central     AxesSubplot(0.125,0.11;0.775x0.77)\n",
       "Purlieus    AxesSubplot(0.125,0.11;0.775x0.77)\n",
       "Suburb      AxesSubplot(0.125,0.11;0.775x0.77)\n",
       "Name: delivery_time, dtype: object"
      ]
     },
     "execution_count": 16,
     "metadata": {},
     "output_type": "execute_result"
    },
    {
     "data": {
      "image/png": "[encoded data removed]",
      "text/plain": [
       "<Figure size 640x480 with 1 Axes>"
      ]
     },
     "metadata": {},
     "output_type": "display_data"
    }
   ],
   "source": [
    "df.query(\"experiment_group=='control'\").groupby('district').delivery_time.hist()"
   ]
  },
  {
   "cell_type": "code",
   "execution_count": 17,
   "id": "69ca0622",
   "metadata": {},
   "outputs": [
    {
     "data": {
      "text/plain": [
       "district\n",
       "Central     AxesSubplot(0.125,0.11;0.775x0.77)\n",
       "Purlieus    AxesSubplot(0.125,0.11;0.775x0.77)\n",
       "Suburb      AxesSubplot(0.125,0.11;0.775x0.77)\n",
       "Name: delivery_time, dtype: object"
      ]
     },
     "execution_count": 17,
     "metadata": {},
     "output_type": "execute_result"
    },
    {
     "data": {
      "image/png": "[encoded data removed]",
      "text/plain": [
       "<Figure size 640x480 with 1 Axes>"
      ]
     },
     "metadata": {},
     "output_type": "display_data"
    }
   ],
   "source": [
    "df.query(\"experiment_group=='test'\").groupby('district').delivery_time.hist()"
   ]
  },
  {
   "cell_type": "code",
   "execution_count": 20,
   "id": "ec713c82",
   "metadata": {},
   "outputs": [
    {
     "data": {
      "text/plain": [
       "NormaltestResult(statistic=0.25349755437872584, pvalue=0.8809549607809654)"
      ]
     },
     "execution_count": 20,
     "metadata": {},
     "output_type": "execute_result"
    }
   ],
   "source": [
    "ss.normaltest(df.query(\"experiment_group=='control'\").delivery_time)"
   ]
  },
  {
   "cell_type": "code",
   "execution_count": 21,
   "id": "3095f4a0",
   "metadata": {},
   "outputs": [
    {
     "data": {
      "text/plain": [
       "NormaltestResult(statistic=7.024157092641915, pvalue=0.02983483685333173)"
      ]
     },
     "execution_count": 21,
     "metadata": {},
     "output_type": "execute_result"
    }
   ],
   "source": [
    "ss.normaltest(df.query(\"experiment_group=='test'\").delivery_time)"
   ]
  },
  {
   "cell_type": "code",
   "execution_count": 24,
   "id": "88aa7bfa",
   "metadata": {},
   "outputs": [
    {
     "data": {
      "text/plain": [
       "<AxesSubplot:xlabel='Theoretical quantiles', ylabel='Ordered quantiles'>"
      ]
     },
     "execution_count": 24,
     "metadata": {},
     "output_type": "execute_result"
    },
    {
     "data": {
      "image/png": "[encoded data removed]",
      "text/plain": [
       "<Figure size 640x480 with 1 Axes>"
      ]
     },
     "metadata": {},
     "output_type": "display_data"
    }
   ],
   "source": [
    "pg.qqplot(df.query(\"experiment_group=='control'\").delivery_time)"
   ]
  },
  {
   "cell_type": "code",
   "execution_count": 25,
   "id": "3a34cbc2",
   "metadata": {},
   "outputs": [
    {
     "data": {
      "text/plain": [
       "<AxesSubplot:xlabel='Theoretical quantiles', ylabel='Ordered quantiles'>"
      ]
     },
     "execution_count": 25,
     "metadata": {},
     "output_type": "execute_result"
    },
    {
     "data": {
      "image/png": "[encoded data removed]",
      "text/plain": [
       "<Figure size 640x480 with 1 Axes>"
      ]
     },
     "metadata": {},
     "output_type": "display_data"
    }
   ],
   "source": [
    "pg.qqplot(df.query(\"experiment_group=='test'\").delivery_time)"
   ]
  },
  {
   "cell_type": "markdown",
   "id": "9301d96e",
   "metadata": {},
   "source": [
    "Для того, чтобы проверить нормальность распределения, используем тест Агостино-Пирсона по функции scipy.stats.normaltest(). Этот тест показывает, что значения в тестовой группе распределены НЕНОРМАЛЬНО. Однако если посмотреть на саму форму распределения, то оно не настолько сильно нарушает нормальность, чтобы об этом беспокоиться на таком размере выборки.  \n",
    "В контрольной группе распределение является НОРМАЛЬНЫМ. \n",
    "####  Проведем t-test, сравним средние. "
   ]
  },
  {
   "cell_type": "code",
   "execution_count": 26,
   "id": "827ea689",
   "metadata": {},
   "outputs": [
    {
     "data": {
      "text/plain": [
       "Ttest_indResult(statistic=-43.03582663183714, pvalue=0.0)"
      ]
     },
     "execution_count": 26,
     "metadata": {},
     "output_type": "execute_result"
    }
   ],
   "source": [
    "ss.ttest_ind(df.query(\"experiment_group=='test'\").delivery_time,\\\n",
    "             df.query(\"experiment_group=='control'\").delivery_time) "
   ]
  },
  {
   "cell_type": "markdown",
   "id": "c2ad2f99",
   "metadata": {},
   "source": [
    "Для уверенности можем провести дополнительный тест Манна-Уитни, который менее чувствителен к нарушениям нормальности распределения."
   ]
  },
  {
   "cell_type": "code",
   "execution_count": 28,
   "id": "7f72ad89",
   "metadata": {},
   "outputs": [
    {
     "data": {
      "text/plain": [
       "MannwhitneyuResult(statistic=33985060.0, pvalue=0.0)"
      ]
     },
     "execution_count": 28,
     "metadata": {},
     "output_type": "execute_result"
    }
   ],
   "source": [
    "ss.mannwhitneyu(df.query(\"experiment_group=='test'\").delivery_time,\\\n",
    "                df.query(\"experiment_group=='control'\").delivery_time) "
   ]
  },
  {
   "cell_type": "markdown",
   "id": "b28e2381",
   "metadata": {},
   "source": [
    "#### Да, по результатам тестов среднее время доставки статистически значимо изменилось, поэтому стоит раскатить новый алгоритм на всех. Среднее время доставки в тесте меньше, чем в контроле."
   ]
  }
 ],
 "metadata": {
  "kernelspec": {
   "display_name": "Python 3 (ipykernel)",
   "language": "python",
   "name": "python3"
  },
  "language_info": {
   "codemirror_mode": {
    "name": "ipython",
    "version": 3
   },
   "file_extension": ".py",
   "mimetype": "text/x-python",
   "name": "python",
   "nbconvert_exporter": "python",
   "pygments_lexer": "ipython3",
   "version": "3.9.13"
  }
 },
 "nbformat": 4,
 "nbformat_minor": 5
}
